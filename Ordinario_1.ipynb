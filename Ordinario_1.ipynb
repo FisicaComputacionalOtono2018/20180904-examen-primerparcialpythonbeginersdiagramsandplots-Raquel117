{
  "nbformat": 4,
  "nbformat_minor": 0,
  "metadata": {
    "colab": {
      "name": "Ordinario-1.ipynb",
      "version": "0.3.2",
      "provenance": []
    },
    "kernelspec": {
      "name": "python3",
      "display_name": "Python 3"
    }
  },
  "cells": [
    {
      "metadata": {
        "id": "uVh7oPngJvsd",
        "colab_type": "code",
        "colab": {
          "base_uri": "https://localhost:8080/",
          "height": 52
        },
        "outputId": "9090edcb-ca5b-4c09-b1c7-4e2719ea4795"
      },
      "cell_type": "code",
      "source": [
        "#Problema 1\n",
        "\n",
        "#Asi como en el diagrama de flujo, x toma el valor inicial de 1:\n",
        "x=1\n",
        "\n",
        "#Hacemos un bucle, ya que x al ser mayor a 5 automaticamente detiene el programa:\n",
        "while x<=5:\n",
        "  \n",
        "#Siguiendo el diagrama, si x es divisible entre 3 simplemente se le sumara 2:\n",
        "  if x%3==0:\n",
        "    x=x+2\n",
        "    \n",
        "#Siguiendo el programa, si x no es divisible entre 3, imprimira y luego sumara 2:\n",
        "  else:\n",
        "    print(x)\n",
        "    x=x+2"
      ],
      "execution_count": 0,
      "outputs": [
        {
          "output_type": "stream",
          "text": [
            "1\n",
            "5\n"
          ],
          "name": "stdout"
        }
      ]
    },
    {
      "metadata": {
        "id": "2xYR_bVeLAKv",
        "colab_type": "code",
        "colab": {
          "base_uri": "https://localhost:8080/",
          "height": 347
        },
        "outputId": "4563d11c-8180-48da-b5b0-d8a323235b39"
      },
      "cell_type": "code",
      "source": [
        "#Problema 2\n",
        "\n",
        "import numpy as np\n",
        "import matplotlib.pyplot as plt\n",
        "\n",
        "#Definimos la funcion que llamaremops mas tarde:\n",
        "def f(z):\n",
        "  return -(z**2) + (z*3)\n",
        "\n",
        "\n",
        "#Definimos el rango del eje x y la segmentacion:\n",
        "x = np.arange(-2.0, 5.0, 0.01)\n",
        "\n",
        "#Creamos el lienzo:\n",
        "plt.figure(1)\n",
        "\n",
        "#Graficamos la funcion evaluada para cada valor de x, en linea negra:\n",
        "plt.plot(x, f(x), 'k')\n",
        "\n",
        "#Hacemos con los valores de f(x) un vector:\n",
        "s = [f(x)]\n",
        "\n",
        "#Obtenemos el mayor numero del conjunto:\n",
        "r = np.max(s)\n",
        "\n",
        "#Graficamos dicho punto:\n",
        "plt.plot(3/2, r, \"bo\")\n",
        "\n",
        "\n",
        "#t = [np.diff(f(x))]\n",
        "#print(t)\n",
        "\n",
        "\n",
        "#Mostramos la grafica:\n",
        "plt.show()"
      ],
      "execution_count": 0,
      "outputs": [
        {
          "output_type": "display_data",
          "data": {
            "image/png": "[encoded data removed]",
            "text/plain": [
              "<matplotlib.figure.Figure at 0x7f2245851a58>"
            ]
          },
          "metadata": {
            "tags": []
          }
        }
      ]
    },
    {
      "metadata": {
        "id": "9Qgtszi-AdMu",
        "colab_type": "text"
      },
      "cell_type": "markdown",
      "source": [
        "\\usepackage{color}\n",
        "\n",
        "{\\color{blue}Revisión de Examen : Aquí solo faltaria agregar como es que se calculó el 3/2}\n"
      ]
    },
    {
      "metadata": {
        "id": "bUhgYcOoRq68",
        "colab_type": "code",
        "colab": {
          "base_uri": "https://localhost:8080/",
          "height": 69
        },
        "outputId": "8c902c2b-1cab-4ba2-d7fd-a6c638a75ae8"
      },
      "cell_type": "code",
      "source": [
        "#Problema 3\n",
        "\n",
        "n = int(input(\"Numero n: \"))\n",
        "m = int(input(\"Numero m: \"))\n",
        "\n",
        " \n",
        "for x in range(n, m+1):\n",
        " suma = x + x\n",
        "  \n",
        "print(\"Suma: \", suma)\n",
        "  \n",
        "#Definimos el rango del eje x y la segmentacion:\n",
        "#x = np.arange(-2, 5, 1)\n",
        "\n",
        "#print(x)\n",
        "\n",
        "\n",
        "#Creamos el lienzo:\n",
        "#plt.figure(1)\n",
        "\n",
        "#Graficamos la funcion evaluada para cada valor de x, en linea negra:\n",
        "#plt.plot(x, f(x), 'k')\n",
        "\n",
        "#Mostramos la grafica:\n",
        "#plt.show()\n",
        "\n",
        "#print(\"Suma: \", suma)"
      ],
      "execution_count": 0,
      "outputs": [
        {
          "output_type": "stream",
          "text": [
            "Numero n: 1\n",
            "Numero m: 3\n",
            "Suma:  6\n"
          ],
          "name": "stdout"
        }
      ]
    },
    {
      "metadata": {
        "id": "KvCk0Q-fN8ni",
        "colab_type": "code",
        "colab": {
          "base_uri": "https://localhost:8080/",
          "height": 395
        },
        "outputId": "f17241fa-7106-4cac-92ce-623a9502777a"
      },
      "cell_type": "code",
      "source": [
        "#Solución del tercer ejercicio\n",
        "#Autor : Maria Isabel Pedraza Morales\n",
        "#Fecha : Agosto 2018\n",
        "#Programa que lee un número N de coeficientes y calcula el valor del polinomio N-1 para un valor de X dado.\n",
        "\n",
        "#importamos las librerias que usaremos para graficar el polinomio\n",
        "import matplotlib.pyplot as plt\n",
        "#importamos la libreria que usaremos para crear un arreglo de nuemeros usando la función arange\n",
        "import numpy as np\n",
        "\n",
        "#función que toma N coeficientes y evalua el polinomio de grado N-1 con dichos coeficientes en el punto X.\n",
        "def polinomio(coeficientes,x):\n",
        "  potencia=0\n",
        "  funcion=0\n",
        "  for i in coeficientes:\n",
        "    funcion=funcion+float(i)*x**potencia\n",
        "    potencia=potencia+1\n",
        "  return funcion\n",
        "\n",
        "#leemos los coeficientes como una cadena de números separados por comas\n",
        "coefcadena = input(\"Dame los coeficientes para el polinomio en el formato a1,a2,a3,...,aN : \")\n",
        "#creamos un vector con los coeficientes (recordemos que aún están en formato cadena (string))\n",
        "coeficientes=coefcadena.split(\",\")\n",
        "\n",
        "#extraemos el número de coeficientes que nos dará el grado del polinomio\n",
        "N=len(coeficientes)\n",
        "#creo la cadena con el texto que usaré para pedir el valor de x en el que será evaluado el polinomio\n",
        "cadena2 = \"Dame el valor de x para evaluar el polinomio de grado \"+str(N)+\" : \"\n",
        "#se lee el valor de x en el que será evaluado el polinomio\n",
        "x=float(input(cadena2))\n",
        "#se imprime y se manda a llamar a la función que evalua el polinomio de grado N-1 en el punto X  \n",
        "print(\"El valor del polinomio es : \", polinomio(coeficientes,x))\n",
        "\n",
        "#Se crea el arreglo de valores en los que se evaluará la función para graficarla\n",
        "t = np.arange(-2.0, 4.0, 0.01)                           \n",
        "#Se crea la gráfica en el rango t del polinomio\n",
        "plt.plot(t, polinomio(coeficientes,t))\n",
        "#se muestra la gráfica\n",
        "plt.show()"
      ],
      "execution_count": 1,
      "outputs": [
        {
          "output_type": "stream",
          "text": [
            "Dame los coeficientes para el polinomio en el formato a1,a2,a3,...,aN : 2,0,5\n",
            "Dame el valor de x para evaluar el polinomio de grado 3 : 2\n",
            "El valor del polinomio es :  22.0\n"
          ],
          "name": "stdout"
        },
        {
          "output_type": "display_data",
          "data": {
            "image/png": "[encoded data removed]",
            "text/plain": [
              "<matplotlib.figure.Figure at 0x7fd819071c88>"
            ]
          },
          "metadata": {
            "tags": []
          }
        }
      ]
    }
  ]
}